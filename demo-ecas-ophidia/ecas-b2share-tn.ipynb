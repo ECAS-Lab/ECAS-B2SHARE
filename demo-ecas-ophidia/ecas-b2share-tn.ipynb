{
 "cells": [
  {
   "cell_type": "markdown",
   "metadata": {},
   "source": [
    "# Proof of concept example (ECAS-B2SHARE)"
   ]
  },
  {
   "cell_type": "markdown",
   "metadata": {},
   "source": [
    "## 1. Use Case "
   ]
  },
  {
   "cell_type": "markdown",
   "metadata": {},
   "source": [
    "<img src=\"ecas-b2share.png\" width=\"700px\" alt=\"Jupyter Notebook example\"/>"
   ]
  },
  {
   "cell_type": "markdown",
   "metadata": {},
   "source": [
    "### 2. Calculate number of tropical nights with Ophidia"
   ]
  },
  {
   "cell_type": "code",
   "execution_count": null,
   "metadata": {},
   "outputs": [],
   "source": [
    "from PyOphidia import cube\n",
    "cube.Cube.setclient(read_env=True)"
   ]
  },
  {
   "cell_type": "code",
   "execution_count": null,
   "metadata": {
    "scrolled": true
   },
   "outputs": [],
   "source": [
    "mintemp = cube.Cube(src_path='/data-training/E63_kp40_198001_199012_T2m_daymin_merged.nc',\n",
    "    measure='temp2',\n",
    "    import_metadata='yes',\n",
    "    imp_dim='time',\n",
    "    imp_concept_level='d', vocabulary='CF',hierarchy='oph_base|oph_base|oph_time',\n",
    "    ncores=4,\n",
    "    description='Min Temps'\n",
    "    )"
   ]
  },
  {
   "cell_type": "code",
   "execution_count": null,
   "metadata": {},
   "outputs": [],
   "source": [
    "tropicalnights = mintemp.apply(\n",
    "    query=\"oph_predicate('OPH_FLOAT','OPH_INT',measure,'x-293.15','>0','1','0')\"\n",
    ")"
   ]
  },
  {
   "cell_type": "code",
   "execution_count": null,
   "metadata": {},
   "outputs": [],
   "source": [
    "count = tropicalnights.reduce2(\n",
    "    operation='sum',\n",
    "    dim='time',\n",
    "    concept_level='y',\n",
    ")"
   ]
  },
  {
   "cell_type": "markdown",
   "metadata": {},
   "source": [
    "Export result to netCDF "
   ]
  },
  {
   "cell_type": "code",
   "execution_count": null,
   "metadata": {},
   "outputs": [],
   "source": [
    "count.exportnc2(output_path='/data/ecas/b2share', output_name='', export_metadata='no')"
   ]
  },
  {
   "cell_type": "code",
   "execution_count": null,
   "metadata": {},
   "outputs": [],
   "source": [
    "firstyear = count.subset(subset_filter=1, subset_dims='time')"
   ]
  },
  {
   "cell_type": "markdown",
   "metadata": {},
   "source": [
    "Plot the result "
   ]
  },
  {
   "cell_type": "code",
   "execution_count": null,
   "metadata": {
    "scrolled": true
   },
   "outputs": [],
   "source": [
    "%matplotlib inline\n",
    "data = firstyear.export_array(show_time='yes')\n",
    "import matplotlib.pyplot as plt\n",
    "from mpl_toolkits.basemap import Basemap, cm\n",
    "import numpy as np\n",
    "\n",
    "lat = data['dimension'][0]['values'][:]\n",
    "lon = data['dimension'][1]['values'][:]\n",
    "var = data['measure'][0]['values'][:]\n",
    "var = np.reshape(var, (len(lat), len(lon)))\n",
    "\n",
    "fig = plt.figure(figsize=(15, 15), dpi=100)\n",
    "ax  = fig.add_axes([0.1,0.1,0.8,0.8])\n",
    "\n",
    "map = Basemap(projection='cyl',llcrnrlat= -90,urcrnrlat= 90, llcrnrlon=0,urcrnrlon=360, resolution='c')\n",
    "\n",
    "map.drawcoastlines()\n",
    "map.drawparallels(np.arange( -90, 90,30),labels=[1,0,0,0])\n",
    "map.drawmeridians(np.arange(-180,180,30),labels=[0,0,0,1])\n",
    "\n",
    "x, y = map(*np.meshgrid(lon,lat))\n",
    "\n",
    "clevs = np.arange(0,371,10)\n",
    "\n",
    "cnplot = map.contourf(x,y,var,clevs,cmap=plt.cm.jet)\n",
    "cbar = map.colorbar(cnplot,location='right')\n",
    "\n",
    "plt.title('Tropical Nights (year 1980)')\n",
    "plt.savefig('tn.png')\n",
    "plt.show()"
   ]
  },
  {
   "cell_type": "markdown",
   "metadata": {},
   "source": [
    "### 3. Create draft record in B2SHARE and add file (exported netCDF)"
   ]
  },
  {
   "cell_type": "code",
   "execution_count": null,
   "metadata": {},
   "outputs": [],
   "source": [
    "from ecasb2share.ecasb2shareclient import EcasShare as Client\n",
    "client = Client()"
   ]
  },
  {
   "cell_type": "code",
   "execution_count": null,
   "metadata": {},
   "outputs": [],
   "source": [
    "client.list_communities()"
   ]
  },
  {
   "cell_type": "code",
   "execution_count": null,
   "metadata": {},
   "outputs": [],
   "source": [
    "title = 'Tropical Nights'\n",
    "community_id = ''\n",
    "file = 'b2share/*.nc'\n",
    "filebucketid = ''"
   ]
  },
  {
   "cell_type": "code",
   "execution_count": null,
   "metadata": {},
   "outputs": [],
   "source": [
    "client.create_draft_record('', title)"
   ]
  },
  {
   "cell_type": "code",
   "execution_count": null,
   "metadata": {},
   "outputs": [],
   "source": [
    "client.add_file_to_draft_record(file, filebucketid)"
   ]
  },
  {
   "cell_type": "markdown",
   "metadata": {},
   "source": [
    "Clean workspace"
   ]
  },
  {
   "cell_type": "code",
   "execution_count": null,
   "metadata": {},
   "outputs": [],
   "source": [
    "client.delete_draft_record('')"
   ]
  }
 ],
 "metadata": {
  "kernelspec": {
   "display_name": "Python 3",
   "language": "python",
   "name": "python3"
  },
  "language_info": {
   "codemirror_mode": {
    "name": "ipython",
    "version": 3
   },
   "file_extension": ".py",
   "mimetype": "text/x-python",
   "name": "python",
   "nbconvert_exporter": "python",
   "pygments_lexer": "ipython3",
   "version": "3.6.4"
  }
 },
 "nbformat": 4,
 "nbformat_minor": 2
}
