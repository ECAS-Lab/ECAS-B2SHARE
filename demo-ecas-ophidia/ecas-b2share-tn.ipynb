{
 "cells": [
  {
   "cell_type": "markdown",
   "metadata": {},
   "source": [
    "# Proof of concept example (ECAS-B2SHARE)"
   ]
  },
  {
   "cell_type": "markdown",
   "metadata": {},
   "source": [
    "## 1. Use Case "
   ]
  },
  {
   "cell_type": "markdown",
   "metadata": {},
   "source": [
    "![Use Case]('https://ecaslab.dkrz.de/jupyter/user/k204213/view/ecas_use_%20case_b2share.png')"
   ]
  },
  {
   "cell_type": "markdown",
   "metadata": {},
   "source": [
    "### 2. Calculate number of tropical nights with Ophidia"
   ]
  },
  {
   "cell_type": "code",
   "execution_count": 1,
   "metadata": {},
   "outputs": [
    {
     "name": "stdout",
     "output_type": "stream",
     "text": [
      "Current cdd is /\n",
      "Current session is http://ecas-server.dkrz.de/ophidia/sessions/16084439523705251231526460832420091/experiment\n",
      "Current cwd is /\n",
      "The last produced cube is http://ecas-server.dkrz.de/ophidia/64/1895\n"
     ]
    }
   ],
   "source": [
    "from PyOphidia import cube\n",
    "cube.Cube.setclient(read_env=True)"
   ]
  },
  {
   "cell_type": "code",
   "execution_count": 2,
   "metadata": {
    "scrolled": true
   },
   "outputs": [
    {
     "name": "stdout",
     "output_type": "stream",
     "text": [
      "('/opt/conda/lib/python3.6/site-packages/PyOphidia/client.py', 282) Something went wrong in submitting the request: There was an error in one or more tasks\n",
      "('/opt/conda/lib/python3.6/site-packages/PyOphidia/cube.py', 2712) Something went wrong in instantiating the cube \n"
     ]
    },
    {
     "ename": "RuntimeError",
     "evalue": "",
     "output_type": "error",
     "traceback": [
      "\u001b[0;31m---------------------------------------------------------------------------\u001b[0m",
      "\u001b[0;31mRuntimeError\u001b[0m                              Traceback (most recent call last)",
      "\u001b[0;32m/opt/conda/lib/python3.6/site-packages/PyOphidia/cube.py\u001b[0m in \u001b[0;36m__init__\u001b[0;34m(self, container, cwd, exp_dim, host_partition, imp_dim, measure, src_path, cdd, compressed, exp_concept_level, filesystem, grid, imp_concept_level, import_metadata, check_compliance, offset, ioserver, ncores, ndb, ndbms, nfrag, nhost, subset_dims, subset_filter, time_filter, subset_type, exec_mode, base_time, calendar, hierarchy, leap_month, leap_year, month_lengths, run, units, vocabulary, description, schedule, pid, check_grid, display)\u001b[0m\n\u001b[1;32m   2705\u001b[0m                         \u001b[0;32mif\u001b[0m \u001b[0mCube\u001b[0m\u001b[0;34m.\u001b[0m\u001b[0mclient\u001b[0m\u001b[0;34m.\u001b[0m\u001b[0msubmit\u001b[0m\u001b[0;34m(\u001b[0m\u001b[0mquery\u001b[0m\u001b[0;34m,\u001b[0m \u001b[0mdisplay\u001b[0m\u001b[0;34m)\u001b[0m \u001b[0;32mis\u001b[0m \u001b[0;32mNone\u001b[0m\u001b[0;34m:\u001b[0m\u001b[0;34m\u001b[0m\u001b[0m\n\u001b[0;32m-> 2706\u001b[0;31m                             \u001b[0;32mraise\u001b[0m \u001b[0mRuntimeError\u001b[0m\u001b[0;34m(\u001b[0m\u001b[0;34m)\u001b[0m\u001b[0;34m\u001b[0m\u001b[0m\n\u001b[0m\u001b[1;32m   2707\u001b[0m \u001b[0;34m\u001b[0m\u001b[0m\n",
      "\u001b[0;31mRuntimeError\u001b[0m: ",
      "\nDuring handling of the above exception, another exception occurred:\n",
      "\u001b[0;31mRuntimeError\u001b[0m                              Traceback (most recent call last)",
      "\u001b[0;32m<ipython-input-2-adc50b828980>\u001b[0m in \u001b[0;36m<module>\u001b[0;34m\u001b[0m\n\u001b[1;32m      5\u001b[0m     \u001b[0mimp_concept_level\u001b[0m\u001b[0;34m=\u001b[0m\u001b[0;34m'd'\u001b[0m\u001b[0;34m,\u001b[0m \u001b[0mvocabulary\u001b[0m\u001b[0;34m=\u001b[0m\u001b[0;34m'CF'\u001b[0m\u001b[0;34m,\u001b[0m\u001b[0mhierarchy\u001b[0m\u001b[0;34m=\u001b[0m\u001b[0;34m'oph_base|oph_base|oph_time'\u001b[0m\u001b[0;34m,\u001b[0m\u001b[0;34m\u001b[0m\u001b[0m\n\u001b[1;32m      6\u001b[0m     \u001b[0mncores\u001b[0m\u001b[0;34m=\u001b[0m\u001b[0;36m4\u001b[0m\u001b[0;34m,\u001b[0m\u001b[0;34m\u001b[0m\u001b[0m\n\u001b[0;32m----> 7\u001b[0;31m     \u001b[0mdescription\u001b[0m\u001b[0;34m=\u001b[0m\u001b[0;34m'Min Temps'\u001b[0m\u001b[0;34m\u001b[0m\u001b[0m\n\u001b[0m\u001b[1;32m      8\u001b[0m     )\n",
      "\u001b[0;32m/opt/conda/lib/python3.6/site-packages/PyOphidia/cube.py\u001b[0m in \u001b[0;36m__init__\u001b[0;34m(self, container, cwd, exp_dim, host_partition, imp_dim, measure, src_path, cdd, compressed, exp_concept_level, filesystem, grid, imp_concept_level, import_metadata, check_compliance, offset, ioserver, ncores, ndb, ndbms, nfrag, nhost, subset_dims, subset_filter, time_filter, subset_type, exec_mode, base_time, calendar, hierarchy, leap_month, leap_year, month_lengths, run, units, vocabulary, description, schedule, pid, check_grid, display)\u001b[0m\n\u001b[1;32m   2711\u001b[0m                     \u001b[0;32mexcept\u001b[0m \u001b[0mException\u001b[0m \u001b[0;32mas\u001b[0m \u001b[0me\u001b[0m\u001b[0;34m:\u001b[0m\u001b[0;34m\u001b[0m\u001b[0m\n\u001b[1;32m   2712\u001b[0m                         \u001b[0mprint\u001b[0m\u001b[0;34m(\u001b[0m\u001b[0mget_linenumber\u001b[0m\u001b[0;34m(\u001b[0m\u001b[0;34m)\u001b[0m\u001b[0;34m,\u001b[0m \u001b[0;34m\"Something went wrong in instantiating the cube\"\u001b[0m\u001b[0;34m,\u001b[0m \u001b[0me\u001b[0m\u001b[0;34m)\u001b[0m\u001b[0;34m\u001b[0m\u001b[0m\n\u001b[0;32m-> 2713\u001b[0;31m                         \u001b[0;32mraise\u001b[0m \u001b[0mRuntimeError\u001b[0m\u001b[0;34m(\u001b[0m\u001b[0;34m)\u001b[0m\u001b[0;34m\u001b[0m\u001b[0m\n\u001b[0m\u001b[1;32m   2714\u001b[0m                     \u001b[0;32melse\u001b[0m\u001b[0;34m:\u001b[0m\u001b[0;34m\u001b[0m\u001b[0m\n\u001b[1;32m   2715\u001b[0m                         \u001b[0;32mif\u001b[0m \u001b[0mself\u001b[0m\u001b[0;34m.\u001b[0m\u001b[0mpid\u001b[0m\u001b[0;34m:\u001b[0m\u001b[0;34m\u001b[0m\u001b[0m\n",
      "\u001b[0;31mRuntimeError\u001b[0m: "
     ]
    }
   ],
   "source": [
    "mintemp = cube.Cube(src_path='',\n",
    "    measure='',\n",
    "    import_metadata='yes',\n",
    "    imp_dim='time',\n",
    "    imp_concept_level='d', vocabulary='CF',hierarchy='oph_base|oph_base|oph_time',\n",
    "    ncores=4,\n",
    "    description='Min Temps'\n",
    "    )"
   ]
  },
  {
   "cell_type": "code",
   "execution_count": null,
   "metadata": {},
   "outputs": [],
   "source": [
    "tropicalnights = mintemp.apply(\n",
    "    query=\"oph_predicate('OPH_FLOAT','OPH_INT',measure,'x-293.15','>0','1','0')\"\n",
    ")"
   ]
  },
  {
   "cell_type": "code",
   "execution_count": null,
   "metadata": {},
   "outputs": [],
   "source": [
    "count = tropicalnights.reduce2(\n",
    "    operation='sum',\n",
    "    dim='time',\n",
    "    concept_level='y',\n",
    ")"
   ]
  },
  {
   "cell_type": "code",
   "execution_count": null,
   "metadata": {},
   "outputs": [],
   "source": [
    "count.exportnc2(output_path='/data/ecas/b2share', output_name='', export_metadata='no')"
   ]
  },
  {
   "cell_type": "markdown",
   "metadata": {},
   "source": [
    "### 3. Create draft record in B2SHARE and add file (exported netCDF)"
   ]
  },
  {
   "cell_type": "code",
   "execution_count": 5,
   "metadata": {},
   "outputs": [],
   "source": [
    "from ecasb2share.ecasb2shareclient import EcasShare as Client\n",
    "client = Client()"
   ]
  },
  {
   "cell_type": "code",
   "execution_count": 6,
   "metadata": {},
   "outputs": [
    {
     "data": {
      "text/plain": [
       "{'hits': {'hits': [{'created': 'Wed, 21 Dec 2016 08:57:40 GMT',\n",
       "    'description': 'Aalto University',\n",
       "    'id': 'c4234f93-da96-4d2f-a2c8-fa83d0775212',\n",
       "    'links': {'self': 'https://trng-b2share.eudat.eu/api/communities/c4234f93-da96-4d2f-a2c8-fa83d0775212'},\n",
       "    'logo': '/img/communities/aalto.jpg',\n",
       "    'name': 'Aalto',\n",
       "    'publication_workflow': 'direct_publish',\n",
       "    'restricted_submission': True,\n",
       "    'roles': {'admin': {'description': 'Admin role of the community \"Aalto\"',\n",
       "      'id': 1,\n",
       "      'name': 'com:c4234f93da964d2fa2c8fa83d0775212:admin'},\n",
       "     'member': {'description': 'Member role of the community \"Aalto\"',\n",
       "      'id': 2,\n",
       "      'name': 'com:c4234f93da964d2fa2c8fa83d0775212:member'}},\n",
       "    'updated': 'Wed, 21 Dec 2016 08:57:40 GMT'},\n",
       "   {'created': 'Wed, 21 Dec 2016 08:57:40 GMT',\n",
       "    'description': 'Biomedical Research.',\n",
       "    'id': '99916f6f-9a2c-4feb-a342-6552ac7f1529',\n",
       "    'links': {'self': 'https://trng-b2share.eudat.eu/api/communities/99916f6f-9a2c-4feb-a342-6552ac7f1529'},\n",
       "    'logo': '/img/communities/bbmri.png',\n",
       "    'name': 'BBMRI',\n",
       "    'publication_workflow': 'direct_publish',\n",
       "    'restricted_submission': False,\n",
       "    'roles': {'admin': {'description': 'Admin role of the community \"BBMRI\"',\n",
       "      'id': 3,\n",
       "      'name': 'com:99916f6f9a2c4feba3426552ac7f1529:admin'},\n",
       "     'member': {'description': 'Member role of the community \"BBMRI\"',\n",
       "      'id': 4,\n",
       "      'name': 'com:99916f6f9a2c4feba3426552ac7f1529:member'}},\n",
       "    'updated': 'Wed, 21 Dec 2016 08:57:40 GMT'},\n",
       "   {'created': 'Wed, 21 Dec 2016 08:57:40 GMT',\n",
       "    'description': 'Linguistic data',\n",
       "    'id': '0afede87-2bf2-4d89-867e-d2ee57251c62',\n",
       "    'links': {'self': 'https://trng-b2share.eudat.eu/api/communities/0afede87-2bf2-4d89-867e-d2ee57251c62'},\n",
       "    'logo': '/img/communities/clarin.png',\n",
       "    'name': 'CLARIN',\n",
       "    'publication_workflow': 'direct_publish',\n",
       "    'restricted_submission': False,\n",
       "    'roles': {'admin': {'description': 'Admin role of the community \"CLARIN\"',\n",
       "      'id': 5,\n",
       "      'name': 'com:0afede872bf24d89867ed2ee57251c62:admin'},\n",
       "     'member': {'description': 'Member role of the community \"CLARIN\"',\n",
       "      'id': 6,\n",
       "      'name': 'com:0afede872bf24d89867ed2ee57251c62:member'}},\n",
       "    'updated': 'Wed, 21 Dec 2016 08:57:40 GMT'},\n",
       "   {'created': 'Wed, 21 Dec 2016 08:57:40 GMT',\n",
       "    'description': 'Meteorology and climate data.',\n",
       "    'id': '94a9567e-2fba-4677-8fde-a8b68bdb63e8',\n",
       "    'links': {'self': 'https://trng-b2share.eudat.eu/api/communities/94a9567e-2fba-4677-8fde-a8b68bdb63e8'},\n",
       "    'logo': '/img/communities/drihm.png',\n",
       "    'name': 'DRIHM',\n",
       "    'publication_workflow': 'direct_publish',\n",
       "    'restricted_submission': False,\n",
       "    'roles': {'admin': {'description': 'Admin role of the community \"DRIHM\"',\n",
       "      'id': 7,\n",
       "      'name': 'com:94a9567e2fba46778fdea8b68bdb63e8:admin'},\n",
       "     'member': {'description': 'Member role of the community \"DRIHM\"',\n",
       "      'id': 8,\n",
       "      'name': 'com:94a9567e2fba46778fdea8b68bdb63e8:member'}},\n",
       "    'updated': 'Wed, 21 Dec 2016 08:57:40 GMT'},\n",
       "   {'created': 'Wed, 21 Dec 2016 08:57:40 GMT',\n",
       "    'description': 'Incoherent scatter radar data',\n",
       "    'id': 'b344f92a-cd0e-4e4c-aa09-28b5f95f7e41',\n",
       "    'links': {'self': 'https://trng-b2share.eudat.eu/api/communities/b344f92a-cd0e-4e4c-aa09-28b5f95f7e41'},\n",
       "    'logo': '/img/communities/eiscat.png',\n",
       "    'name': 'EISCAT',\n",
       "    'publication_workflow': 'direct_publish',\n",
       "    'restricted_submission': True,\n",
       "    'roles': {'admin': {'description': 'Admin role of the community \"EISCAT\"',\n",
       "      'id': 9,\n",
       "      'name': 'com:b344f92acd0e4e4caa0928b5f95f7e41:admin'},\n",
       "     'member': {'description': 'Member role of the community \"EISCAT\"',\n",
       "      'id': 10,\n",
       "      'name': 'com:b344f92acd0e4e4caa0928b5f95f7e41:member'}},\n",
       "    'updated': 'Wed, 21 Dec 2016 08:57:40 GMT'},\n",
       "   {'created': 'Wed, 21 Dec 2016 08:57:40 GMT',\n",
       "    'description': 'The big Eudat community. Use this community if no other is suited for you',\n",
       "    'id': 'e9b9792e-79fb-4b07-b6b4-b9c2bd06d095',\n",
       "    'links': {'self': 'https://trng-b2share.eudat.eu/api/communities/e9b9792e-79fb-4b07-b6b4-b9c2bd06d095'},\n",
       "    'logo': '/img/communities/eudat.png',\n",
       "    'name': 'EUDAT',\n",
       "    'publication_workflow': 'direct_publish',\n",
       "    'restricted_submission': False,\n",
       "    'roles': {'admin': {'description': 'Admin role of the community \"EUDAT\"',\n",
       "      'id': 11,\n",
       "      'name': 'com:e9b9792e79fb4b07b6b4b9c2bd06d095:admin'},\n",
       "     'member': {'description': 'Member role of the community \"EUDAT\"',\n",
       "      'id': 12,\n",
       "      'name': 'com:e9b9792e79fb4b07b6b4b9c2bd06d095:member'}},\n",
       "    'updated': 'Wed, 21 Dec 2016 08:57:40 GMT'},\n",
       "   {'created': 'Wed, 21 Dec 2016 08:57:40 GMT',\n",
       "    'description': 'Ontological data.',\n",
       "    'id': '893fad89-dc4a-4f1b-a9ba-4240aa18e12b',\n",
       "    'links': {'self': 'https://trng-b2share.eudat.eu/api/communities/893fad89-dc4a-4f1b-a9ba-4240aa18e12b'},\n",
       "    'logo': '/img/communities/euon.png',\n",
       "    'name': 'EUON',\n",
       "    'publication_workflow': 'direct_publish',\n",
       "    'restricted_submission': False,\n",
       "    'roles': {'admin': {'description': 'Admin role of the community \"EUON\"',\n",
       "      'id': 13,\n",
       "      'name': 'com:893fad89dc4a4f1ba9ba4240aa18e12b:admin'},\n",
       "     'member': {'description': 'Member role of the community \"EUON\"',\n",
       "      'id': 14,\n",
       "      'name': 'com:893fad89dc4a4f1ba9ba4240aa18e12b:member'}},\n",
       "    'updated': 'Wed, 21 Dec 2016 08:57:40 GMT'},\n",
       "   {'created': 'Wed, 21 Dec 2016 08:57:40 GMT',\n",
       "    'description': 'Biodiversity data.',\n",
       "    'id': '867c4e67-9227-4b6f-8595-c97d37e9de61',\n",
       "    'links': {'self': 'https://trng-b2share.eudat.eu/api/communities/867c4e67-9227-4b6f-8595-c97d37e9de61'},\n",
       "    'logo': '/img/communities/gbif.png',\n",
       "    'name': 'GBIF',\n",
       "    'publication_workflow': 'direct_publish',\n",
       "    'restricted_submission': False,\n",
       "    'roles': {'admin': {'description': 'Admin role of the community \"GBIF\"',\n",
       "      'id': 15,\n",
       "      'name': 'com:867c4e6792274b6f8595c97d37e9de61:admin'},\n",
       "     'member': {'description': 'Member role of the community \"GBIF\"',\n",
       "      'id': 16,\n",
       "      'name': 'com:867c4e6792274b6f8595c97d37e9de61:member'}},\n",
       "    'updated': 'Wed, 21 Dec 2016 08:57:40 GMT'},\n",
       "   {'created': 'Wed, 21 Dec 2016 08:57:40 GMT',\n",
       "    'description': 'Long-Term Ecosystem Research in Europe',\n",
       "    'id': 'd952913c-451e-4b5c-817e-d578dc8a4469',\n",
       "    'links': {'self': 'https://trng-b2share.eudat.eu/api/communities/d952913c-451e-4b5c-817e-d578dc8a4469'},\n",
       "    'logo': '/img/communities/lter.jpg',\n",
       "    'name': 'LTER',\n",
       "    'publication_workflow': 'direct_publish',\n",
       "    'restricted_submission': False,\n",
       "    'roles': {'admin': {'description': 'Admin role of the community \"LTER\"',\n",
       "      'id': 17,\n",
       "      'name': 'com:d952913c451e4b5c817ed578dc8a4469:admin'},\n",
       "     'member': {'description': 'Member role of the community \"LTER\"',\n",
       "      'id': 18,\n",
       "      'name': 'com:d952913c451e4b5c817ed578dc8a4469:member'}},\n",
       "    'updated': 'Wed, 21 Dec 2016 08:57:40 GMT'},\n",
       "   {'created': 'Wed, 21 Dec 2016 08:57:40 GMT',\n",
       "    'description': 'Herbarium data.',\n",
       "    'id': '4ba7c0fd-1435-4313-9c13-4d888d60321a',\n",
       "    'links': {'self': 'https://trng-b2share.eudat.eu/api/communities/4ba7c0fd-1435-4313-9c13-4d888d60321a'},\n",
       "    'logo': '/img/communities/nrm.png',\n",
       "    'name': 'NRM',\n",
       "    'publication_workflow': 'direct_publish',\n",
       "    'restricted_submission': False,\n",
       "    'roles': {'admin': {'description': 'Admin role of the community \"NRM\"',\n",
       "      'id': 19,\n",
       "      'name': 'com:4ba7c0fd143543139c134d888d60321a:admin'},\n",
       "     'member': {'description': 'Member role of the community \"NRM\"',\n",
       "      'id': 20,\n",
       "      'name': 'com:4ba7c0fd143543139c134d888d60321a:member'}},\n",
       "    'updated': 'Wed, 21 Dec 2016 08:57:40 GMT'},\n",
       "   {'created': 'Wed, 21 Dec 2016 08:57:40 GMT',\n",
       "    'description': 'Research Data Alliance',\n",
       "    'id': '8d963a29-5e19-492b-8cfe-97da4f54fad2',\n",
       "    'links': {'self': 'https://trng-b2share.eudat.eu/api/communities/8d963a29-5e19-492b-8cfe-97da4f54fad2'},\n",
       "    'logo': '/img/communities/rda.png',\n",
       "    'name': 'RDA',\n",
       "    'publication_workflow': 'direct_publish',\n",
       "    'restricted_submission': True,\n",
       "    'roles': {'admin': {'description': 'Admin role of the community \"RDA\"',\n",
       "      'id': 21,\n",
       "      'name': 'com:8d963a295e19492b8cfe97da4f54fad2:admin'},\n",
       "     'member': {'description': 'Member role of the community \"RDA\"',\n",
       "      'id': 22,\n",
       "      'name': 'com:8d963a295e19492b8cfe97da4f54fad2:member'}},\n",
       "    'updated': 'Wed, 21 Dec 2016 08:57:40 GMT'},\n",
       "   {'created': 'Tue, 09 May 2017 13:45:39 GMT',\n",
       "    'description': 'European Plate Observing System',\n",
       "    'id': '0c97d6d2-88da-473a-8d30-2f4e730ed4a2',\n",
       "    'links': {'self': 'https://trng-b2share.eudat.eu/api/communities/0c97d6d2-88da-473a-8d30-2f4e730ed4a2'},\n",
       "    'logo': '/img/communities/epos.png',\n",
       "    'name': 'EPOS',\n",
       "    'publication_workflow': 'direct_publish',\n",
       "    'restricted_submission': False,\n",
       "    'roles': {'admin': {'description': 'Admin role of the community \"EPOS\"',\n",
       "      'id': 23,\n",
       "      'name': 'com:0c97d6d288da473a8d302f4e730ed4a2:admin'},\n",
       "     'member': {'description': 'Member role of the community \"EPOS\"',\n",
       "      'id': 24,\n",
       "      'name': 'com:0c97d6d288da473a8d302f4e730ed4a2:member'}},\n",
       "    'updated': 'Tue, 09 May 2017 13:45:39 GMT'},\n",
       "   {'created': 'Tue, 31 Oct 2017 10:45:06 GMT',\n",
       "    'description': 'Test community for publication_workflow',\n",
       "    'id': '3b04f6f0-f52c-42c6-ba02-db7a8d68aea6',\n",
       "    'links': {'self': 'https://trng-b2share.eudat.eu/api/communities/3b04f6f0-f52c-42c6-ba02-db7a8d68aea6'},\n",
       "    'logo': '/img/communities/workflow.png',\n",
       "    'name': 'workflow',\n",
       "    'publication_workflow': 'direct_publish',\n",
       "    'restricted_submission': False,\n",
       "    'roles': {'admin': {'description': 'Admin role of the community \"workflow\"',\n",
       "      'id': 25,\n",
       "      'name': 'com:3b04f6f0f52c42c6ba02db7a8d68aea6:admin'},\n",
       "     'member': {'description': 'Member role of the community \"workflow\"',\n",
       "      'id': 26,\n",
       "      'name': 'com:3b04f6f0f52c42c6ba02db7a8d68aea6:member'}},\n",
       "    'updated': 'Tue, 31 Oct 2017 10:45:06 GMT'},\n",
       "   {'created': 'Wed, 10 Jan 2018 14:02:31 GMT',\n",
       "    'description': 'Urban air quality data',\n",
       "    'id': '2854dbc2-59d7-4d6b-bdbd-a7bee231c7f0',\n",
       "    'links': {'self': 'https://trng-b2share.eudat.eu/api/communities/2854dbc2-59d7-4d6b-bdbd-a7bee231c7f0'},\n",
       "    'logo': '/img/communities/liferespira.png',\n",
       "    'name': 'LIFE+RESPIRA',\n",
       "    'publication_workflow': 'direct_publish',\n",
       "    'restricted_submission': False,\n",
       "    'roles': {'admin': {'description': 'Admin role of the community \"LIFE+RESPIRA\"',\n",
       "      'id': 27,\n",
       "      'name': 'com:2854dbc259d74d6bbdbda7bee231c7f0:admin'},\n",
       "     'member': {'description': 'Member role of the community \"LIFE+RESPIRA\"',\n",
       "      'id': 28,\n",
       "      'name': 'com:2854dbc259d74d6bbdbda7bee231c7f0:member'}},\n",
       "    'updated': 'Wed, 10 Jan 2018 14:02:31 GMT'},\n",
       "   {'created': 'Wed, 05 Sep 2018 09:06:10 GMT',\n",
       "    'description': 'The Baltic TRAM project offers companies free access to state-of-the-art analytical research facilities across the Baltic Sea Region, providing technical and scientific expertise to help solve challenges associated with developing new products or services.',\n",
       "    'id': '9f7747ca-f227-4e72-b51e-2e019ee77a95',\n",
       "    'links': {'self': 'https://trng-b2share.eudat.eu/api/communities/9f7747ca-f227-4e72-b51e-2e019ee77a95'},\n",
       "    'logo': '/img/communities/baltic_tram_logo.png',\n",
       "    'name': 'Baltic TRAM',\n",
       "    'publication_workflow': 'direct_publish',\n",
       "    'restricted_submission': False,\n",
       "    'roles': {'admin': {'description': 'Admin role of the community \"Baltic TRAM\"',\n",
       "      'id': 29,\n",
       "      'name': 'com:9f7747caf2274e72b51e2e019ee77a95:admin'},\n",
       "     'member': {'description': 'Member role of the community \"Baltic TRAM\"',\n",
       "      'id': 30,\n",
       "      'name': 'com:9f7747caf2274e72b51e2e019ee77a95:member'}},\n",
       "    'updated': 'Wed, 05 Sep 2018 09:06:10 GMT'},\n",
       "   {'created': 'Thu, 13 Dec 2018 15:00:19 GMT',\n",
       "    'description': 'InGRID is a network of distributed, but integrating European research infrastructures. An online research portal will be the gateway to the integrated research infrastructure InGRID. The portal is a lightweight research platform including metadata on relevant (trans)national data infrastructures in the fields of working conditions, vulnerability, poverty and living conditions. Its aim is to facilitate and serve the European research community on inclusive growth.',\n",
       "    'id': '552699cd-aa81-4b82-9845-da2184506935',\n",
       "    'links': {'self': 'https://trng-b2share.eudat.eu/api/communities/552699cd-aa81-4b82-9845-da2184506935'},\n",
       "    'logo': '/img/communities/ingrid.png',\n",
       "    'name': 'InGRID',\n",
       "    'publication_workflow': 'direct_publish',\n",
       "    'restricted_submission': False,\n",
       "    'roles': {'admin': {'description': 'Admin role of the community \"InGRID\"',\n",
       "      'id': 31,\n",
       "      'name': 'com:552699cdaa814b829845da2184506935:admin'},\n",
       "     'member': {'description': 'Member role of the community \"InGRID\"',\n",
       "      'id': 32,\n",
       "      'name': 'com:552699cdaa814b829845da2184506935:member'}},\n",
       "    'updated': 'Thu, 13 Dec 2018 15:00:19 GMT'},\n",
       "   {'created': 'Thu, 24 Jan 2019 12:59:24 GMT',\n",
       "    'description': 'Transnational access programme and Pan-European Research Infrastructure on High Performance Computing',\n",
       "    'id': '80048241-43b0-47a8-8175-be1d04b69588',\n",
       "    'links': {'self': 'https://trng-b2share.eudat.eu/api/communities/80048241-43b0-47a8-8175-be1d04b69588'},\n",
       "    'logo': '/img/communities/hpc-europa3.png',\n",
       "    'name': 'HPC-Europa3',\n",
       "    'publication_workflow': 'direct_publish',\n",
       "    'restricted_submission': False,\n",
       "    'roles': {'admin': {'description': 'Admin role of the community \"HPC-Europa3\"',\n",
       "      'id': 33,\n",
       "      'name': 'com:8004824143b047a88175be1d04b69588:admin'},\n",
       "     'member': {'description': 'Member role of the community \"HPC-Europa3\"',\n",
       "      'id': 34,\n",
       "      'name': 'com:8004824143b047a88175be1d04b69588:member'}},\n",
       "    'updated': 'Thu, 24 Jan 2019 12:59:24 GMT'}],\n",
       "  'total': 17},\n",
       " 'links': {'self': 'https://trng-b2share.eudat.eu/api/communities/'}}"
      ]
     },
     "execution_count": 6,
     "metadata": {},
     "output_type": "execute_result"
    }
   ],
   "source": [
    "client.list_communities()"
   ]
  },
  {
   "cell_type": "code",
   "execution_count": null,
   "metadata": {},
   "outputs": [],
   "source": [
    "title = 'mytitle'\n",
    "community_id = 'e9b9792e-79fb-4b07-b6b4-b9c2bd06d095'\n",
    "file = ''\n",
    "filebucketid = ''"
   ]
  },
  {
   "cell_type": "code",
   "execution_count": 7,
   "metadata": {},
   "outputs": [
    {
     "name": "stdout",
     "output_type": "stream",
     "text": [
      "Draft record created:\n",
      "222183da22694e148f6f554881fdf3ef\n",
      "filebucketid:\n",
      "38548601-ff52-482b-98af-afe5a364534a\n"
     ]
    },
    {
     "name": "stderr",
     "output_type": "stream",
     "text": [
      "/opt/conda/lib/python3.6/site-packages/urllib3/connectionpool.py:858: InsecureRequestWarning: Unverified HTTPS request is being made. Adding certificate verification is strongly advised. See: https://urllib3.readthedocs.io/en/latest/advanced-usage.html#ssl-warnings\n",
      "  InsecureRequestWarning)\n"
     ]
    },
    {
     "data": {
      "text/plain": [
       "('222183da22694e148f6f554881fdf3ef', '38548601-ff52-482b-98af-afe5a364534a')"
      ]
     },
     "execution_count": 7,
     "metadata": {},
     "output_type": "execute_result"
    }
   ],
   "source": [
    "client.create_draft_record('e9b9792e-79fb-4b07-b6b4-b9c2bd06d095', 'test')"
   ]
  },
  {
   "cell_type": "code",
   "execution_count": null,
   "metadata": {},
   "outputs": [],
   "source": [
    "client.add_file_to_draft_record(file, filebucketid)"
   ]
  },
  {
   "cell_type": "code",
   "execution_count": 1,
   "metadata": {},
   "outputs": [
    {
     "name": "stdout",
     "output_type": "stream",
     "text": [
      "PyOphidia (1.8.0)  - Python bindings for the Ophidia Data Analytics Platform\r\n",
      "  INSTALLED: 1.7.0\r\n",
      "  LATEST:    1.8.0\r\n"
     ]
    }
   ],
   "source": [
    "!pip search pyophidia"
   ]
  }
 ],
 "metadata": {
  "kernelspec": {
   "display_name": "Python 3",
   "language": "python",
   "name": "python3"
  },
  "language_info": {
   "codemirror_mode": {
    "name": "ipython",
    "version": 3
   },
   "file_extension": ".py",
   "mimetype": "text/x-python",
   "name": "python",
   "nbconvert_exporter": "python",
   "pygments_lexer": "ipython3",
   "version": "3.6.4"
  }
 },
 "nbformat": 4,
 "nbformat_minor": 2
}
